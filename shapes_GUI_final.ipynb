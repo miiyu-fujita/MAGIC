{
  "cells": [
    {
      "cell_type": "markdown",
      "metadata": {
        "id": "view-in-github",
        "colab_type": "text"
      },
      "source": [
        "<a href=\"https://colab.research.google.com/github/miiyu-fujita/MAGIC/blob/main/shapes_GUI_final.ipynb\" target=\"_parent\"><img src=\"https://colab.research.google.com/assets/colab-badge.svg\" alt=\"Open In Colab\"/></a>"
      ]
    },
    {
      "cell_type": "markdown",
      "metadata": {
        "id": "p2jNNJcDztBA"
      },
      "source": [
        "Import / Install necessary libraries"
      ]
    },
    {
      "cell_type": "code",
      "execution_count": null,
      "metadata": {
        "id": "7iRFkpVUzeg2"
      },
      "outputs": [],
      "source": [
        "import tensorflow as tf\n",
        "import numpy as np\n",
        "from tensorflow import keras\n",
        "! pip install gradio\n",
        "import gradio as gr"
      ]
    },
    {
      "cell_type": "markdown",
      "metadata": {
        "id": "xdxIpM7rzsgQ"
      },
      "source": [
        "Upload the model\n",
        "- upload the model zip file included in the github repo to this environment (/content folder), then run this cell to unzip the files"
      ]
    },
    {
      "cell_type": "code",
      "execution_count": null,
      "metadata": {
        "colab": {
          "base_uri": "https://localhost:8080/"
        },
        "id": "VJNClWXMzrqj",
        "outputId": "f76b7699-1a36-41a6-ab2b-cd3fec8cb10a"
      },
      "outputs": [
        {
          "output_type": "stream",
          "name": "stdout",
          "text": [
            "Archive:  /content/shapes_model-20230303T232527Z-001.zip\n",
            "  inflating: /model/shapes_model/fingerprint.pb  \n",
            "  inflating: /model/shapes_model/keras_metadata.pb  \n",
            "  inflating: /model/shapes_model/saved_model.pb  \n",
            "   creating: /model/shapes_model/assets/\n",
            "  inflating: /model/shapes_model/variables/variables.index  \n",
            "  inflating: /model/shapes_model/variables/variables.data-00000-of-00001  \n"
          ]
        }
      ],
      "source": [
        "! unzip \"/content/shapes_model-20230303T232527Z-001.zip\" -d \"/model\""
      ]
    },
    {
      "cell_type": "markdown",
      "metadata": {
        "id": "PTUU2Jtl00ku"
      },
      "source": [
        "Load the model using tensorflow\n",
        "- ensure that the path keras is loading the model from matches the path to which you have unzipped the model files"
      ]
    },
    {
      "cell_type": "code",
      "execution_count": null,
      "metadata": {
        "id": "0w7FyY8e03Kn"
      },
      "outputs": [],
      "source": [
        "model = keras.models.load_model('/model/shapes_model')"
      ]
    },
    {
      "cell_type": "markdown",
      "metadata": {
        "id": "woakwH1W1aLI"
      },
      "source": [
        "Build the GUI"
      ]
    },
    {
      "cell_type": "code",
      "execution_count": null,
      "metadata": {
        "colab": {
          "base_uri": "https://localhost:8080/"
        },
        "id": "mbK4-Bji1eVg",
        "outputId": "8d17b9a6-297e-4e5b-9715-0f8d9044512a"
      },
      "outputs": [
        {
          "output_type": "stream",
          "name": "stderr",
          "text": [
            "/usr/local/lib/python3.8/dist-packages/gradio/blocks.py:676: UserWarning: api_name predict already exists, using predict_1\n",
            "  warnings.warn(\n",
            "/usr/local/lib/python3.8/dist-packages/gradio/blocks.py:676: UserWarning: api_name predict already exists, using predict_2\n",
            "  warnings.warn(\n",
            "/usr/local/lib/python3.8/dist-packages/gradio/blocks.py:676: UserWarning: api_name predict already exists, using predict_3\n",
            "  warnings.warn(\n",
            "/usr/local/lib/python3.8/dist-packages/gradio/blocks.py:676: UserWarning: api_name predict already exists, using predict_4\n",
            "  warnings.warn(\n"
          ]
        }
      ],
      "source": [
        "# accept zip files , extract images, present in gallery & predict (2 outputs: gallery of images & predicted zip file)\n",
        "import zipfile \n",
        "import glob\n",
        "import os\n",
        "import io\n",
        "from os import path \n",
        "import shutil \n",
        "\n",
        "# ----- YOUR IMAGES MUST BE .PNG, OR YOU HAVE TO CHANGE THE GLOB ------\n",
        "# zip file input -> extract pics to show gallery of uploaded images\n",
        "def zip_to_gallery(file): # does it work with the file itself? - YESSSS\n",
        "  print(file.name)\n",
        "  with zipfile.ZipFile(file.name, 'r') as zip_obj:\n",
        "    zip_obj.extractall('/input_images')\n",
        "  return glob.glob('/input_images/**/*.png')\n",
        "\n",
        "def all_predictions(file): \n",
        "  # initialize the parent directory and 3 child directories \n",
        "  if not path.exists('/predictions'):\n",
        "    os.mkdir('/predictions')\n",
        "    os.mkdir('/predictions/circle')\n",
        "    os.mkdir('/predictions/square')\n",
        "    os.mkdir('/predictions/star')\n",
        "    os.mkdir('/predictions/triangle')\n",
        "  # get image paths of extracted image files\n",
        "  image_paths = zip_to_gallery(file) # HARD CODED PATH - USED TO WORK WITH ANY FILE PATH ??W??DSAC><SDKMCSKJDN\n",
        "  for ipath in image_paths:\n",
        "    image = tf.keras.utils.load_img(ipath, target_size=(200, 200))\n",
        "    image_array = tf.keras.utils.img_to_array(image)\n",
        "    image_array = tf.expand_dims(image_array, 0)\n",
        "    predictions = model.predict(image_array)\n",
        "    score = tf.nn.softmax(predictions[0])\n",
        "    class_names = ['circle', 'square', 'star', 'triangle']\n",
        "\n",
        "    prediction_label = class_names[np.argmax(score)]\n",
        "    # here, based on label, save the image to the folder \"Igneous\", \"Metamorphic\" or \"Sedimentary\"\n",
        "    if prediction_label == 'circle':\n",
        "      shutil.copy(ipath, '/predictions/circle')\n",
        "    elif prediction_label == 'square':\n",
        "      shutil.copy(ipath, '/predictions/square')\n",
        "    elif prediction_label == 'star':\n",
        "      shutil.copy(ipath, '/predictions/star')\n",
        "    else: \n",
        "      shutil.copy(ipath, '/predictions/triangle')\n",
        "  shutil.make_archive('predictions', 'zip', '/', 'predictions')\n",
        "  return image_paths, \"/content/predictions.zip\"\n",
        "\n",
        "def get_circle():\n",
        "  # assumes main page has an uploaded zip file with predictions \n",
        "  # returns a Gallery & zip file \n",
        "  rock_1_image_paths = glob.glob('/predictions/circle/*.png')\n",
        "  shutil.make_archive('circle', 'zip', '/', '/predictions/circle')\n",
        "  return rock_1_image_paths, \"/content/circle.zip\"\n",
        "\n",
        "def get_square():\n",
        "  rock_2_image_paths = glob.glob('/predictions/square/*.png')\n",
        "  shutil.make_archive('square', 'zip', '/', '/predictions/square')\n",
        "  return rock_2_image_paths, \"/content/square.zip\"\n",
        "\n",
        "def get_star():\n",
        "  rock_3_image_paths = glob.glob('/predictions/star/*.png')\n",
        "  shutil.make_archive('star', 'zip', '/', '/predictions/star')\n",
        "  return rock_3_image_paths, \"/content/star.zip\"\n",
        "\n",
        "def get_triangle():\n",
        "  rock_4_image_paths = glob.glob('/predictions/triangle/*.png')\n",
        "  shutil.make_archive('triangle', 'zip', '/', '/predictions/triangle')\n",
        "  return rock_4_image_paths, \"/content/triangle.zip\"\n",
        "\n",
        "\n",
        "\n",
        "all_rock_demo = gr.Interface(all_predictions,\n",
        "                    gr.File(file_types=[\".zip\"]),\n",
        "                    outputs=[gr.Gallery(), \"file\"],\n",
        "                    title=\"MAGIC\",\n",
        "                    description=\"upload a zip file!\")\n",
        "circle_demo = gr.Interface(get_circle,\n",
        "                         None,\n",
        "                         outputs=[gr.Gallery(), \"file\"],\n",
        "                         title=\"MAGIC\",\n",
        "                         description=\"these are Circles :)\")\n",
        "square_demo = gr.Interface(get_square,\n",
        "                         None,\n",
        "                         outputs=[gr.Gallery(), \"file\"],\n",
        "                         title=\"MAGIC\",\n",
        "                         description=\"these are Squares :)\")\n",
        "star_demo = gr.Interface(get_star,\n",
        "                         None,\n",
        "                         outputs=[gr.Gallery(), \"file\"],\n",
        "                         title=\"MAGIC\",\n",
        "                         description=\"these are Stars :)\")\n",
        "triangle_demo = gr.Interface(get_triangle,\n",
        "                         None,\n",
        "                         outputs=[gr.Gallery(), \"file\"],\n",
        "                         title=\"MAGIC\",\n",
        "                         description=\"these are Triangles :)\")\n",
        "\n",
        "\n",
        "\n",
        "demo = gr.TabbedInterface([all_rock_demo, circle_demo, square_demo, star_demo, triangle_demo], [\"All rocks\", \"Circle\", \"Square\", \"Star\", \"Triangle\"])\n"
      ]
    },
    {
      "cell_type": "markdown",
      "metadata": {
        "id": "KORniGdM1exj"
      },
      "source": [
        "Launch the GUI"
      ]
    },
    {
      "cell_type": "code",
      "execution_count": null,
      "metadata": {
        "colab": {
          "base_uri": "https://localhost:8080/",
          "height": 1000
        },
        "id": "th2MUlwb1gVY",
        "outputId": "3da82ab5-cbc3-451d-c22c-eac35ca62892"
      },
      "outputs": [
        {
          "output_type": "stream",
          "name": "stdout",
          "text": [
            "Colab notebook detected. This cell will run indefinitely so that you can see errors and logs. To turn off, set debug=False in launch().\n",
            "Note: opening Chrome Inspector may crash demo inside Colab notebooks.\n",
            "\n",
            "To create a public link, set `share=True` in `launch()`.\n"
          ]
        },
        {
          "output_type": "display_data",
          "data": {
            "text/plain": [
              "<IPython.core.display.Javascript object>"
            ],
            "application/javascript": [
              "(async (port, path, width, height, cache, element) => {\n",
              "                        if (!google.colab.kernel.accessAllowed && !cache) {\n",
              "                            return;\n",
              "                        }\n",
              "                        element.appendChild(document.createTextNode(''));\n",
              "                        const url = await google.colab.kernel.proxyPort(port, {cache});\n",
              "\n",
              "                        const external_link = document.createElement('div');\n",
              "                        external_link.innerHTML = `\n",
              "                            <div style=\"font-family: monospace; margin-bottom: 0.5rem\">\n",
              "                                Running on <a href=${new URL(path, url).toString()} target=\"_blank\">\n",
              "                                    https://localhost:${port}${path}\n",
              "                                </a>\n",
              "                            </div>\n",
              "                        `;\n",
              "                        element.appendChild(external_link);\n",
              "\n",
              "                        const iframe = document.createElement('iframe');\n",
              "                        iframe.src = new URL(path, url).toString();\n",
              "                        iframe.height = height;\n",
              "                        iframe.allow = \"autoplay; camera; microphone; clipboard-read; clipboard-write;\"\n",
              "                        iframe.width = width;\n",
              "                        iframe.style.border = 0;\n",
              "                        element.appendChild(iframe);\n",
              "                    })(7860, \"/\", \"100%\", 500, false, window.element)"
            ]
          },
          "metadata": {}
        },
        {
          "output_type": "stream",
          "name": "stdout",
          "text": [
            "/tmp/circle365c987849249d9dc5c1e5f91d6f0a3c6263735e_wkdp77rf365c987849249d9dc5c1e5f91d6f0a3c6263735e.zip\n",
            "1/1 [==============================] - 0s 43ms/step\n",
            "1/1 [==============================] - 0s 41ms/step\n",
            "1/1 [==============================] - 0s 43ms/step\n",
            "1/1 [==============================] - 0s 39ms/step\n",
            "1/1 [==============================] - 0s 41ms/step\n",
            "/tmp/TEST_ia2wespyc673c930354926cb8fc53e30d2cf30a8dec51bdb.zip\n",
            "1/1 [==============================] - 0s 46ms/step\n",
            "1/1 [==============================] - 0s 41ms/step\n",
            "1/1 [==============================] - 0s 40ms/step\n",
            "1/1 [==============================] - 0s 46ms/step\n",
            "1/1 [==============================] - 0s 39ms/step\n",
            "/tmp/TEST__kmi8m2xdc673c930354926cb8fc53e30d2cf30a8dec51bdb.zip\n",
            "1/1 [==============================] - 0s 41ms/step\n",
            "1/1 [==============================] - 0s 39ms/step\n",
            "1/1 [==============================] - 0s 40ms/step\n",
            "1/1 [==============================] - 0s 40ms/step\n",
            "1/1 [==============================] - 0s 42ms/step\n",
            "/tmp/tester_zip_ab_8qkucc673c930354926cb8fc53e30d2cf30a8dec51bdb.zip\n",
            "1/1 [==============================] - 0s 56ms/step\n",
            "1/1 [==============================] - 0s 72ms/step\n",
            "1/1 [==============================] - 0s 59ms/step\n",
            "1/1 [==============================] - 0s 61ms/step\n",
            "1/1 [==============================] - 0s 58ms/step\n",
            "/tmp/test_zip_2is0pgys8ad943f2798881f69d93ccc92cd17c5cbe53b378.zip\n",
            "1/1 [==============================] - 0s 40ms/step\n",
            "1/1 [==============================] - 0s 39ms/step\n",
            "1/1 [==============================] - 0s 38ms/step\n",
            "1/1 [==============================] - 0s 44ms/step\n",
            "1/1 [==============================] - 0s 38ms/step\n",
            "1/1 [==============================] - 0s 40ms/step\n",
            "1/1 [==============================] - 0s 49ms/step\n",
            "1/1 [==============================] - 0s 40ms/step\n",
            "/tmp/tester_zip_zpos0zb1c673c930354926cb8fc53e30d2cf30a8dec51bdb.zip\n",
            "1/1 [==============================] - 0s 45ms/step\n",
            "1/1 [==============================] - 0s 40ms/step\n",
            "1/1 [==============================] - 0s 47ms/step\n",
            "1/1 [==============================] - 0s 38ms/step\n",
            "1/1 [==============================] - 0s 45ms/step\n",
            "1/1 [==============================] - 0s 40ms/step\n",
            "1/1 [==============================] - 0s 47ms/step\n",
            "1/1 [==============================] - 0s 48ms/step\n",
            "Keyboard interruption in main thread... closing server.\n"
          ]
        },
        {
          "output_type": "execute_result",
          "data": {
            "text/plain": []
          },
          "metadata": {},
          "execution_count": 40
        }
      ],
      "source": [
        "demo.launch(debug=True)"
      ]
    }
  ],
  "metadata": {
    "colab": {
      "provenance": [],
      "authorship_tag": "ABX9TyNXgWTAbMQckkKxis95n79i",
      "include_colab_link": true
    },
    "kernelspec": {
      "display_name": "Python 3",
      "name": "python3"
    },
    "language_info": {
      "name": "python"
    }
  },
  "nbformat": 4,
  "nbformat_minor": 0
}